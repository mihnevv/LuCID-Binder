{
 "cells": [
  {
   "cell_type": "markdown",
   "metadata": {},
   "source": [
    "# Bibliotheken\n",
    "\n",
    "## Voraussetzungen\n",
    " Diese Einheit setzt voraus, dass Sie folgende Inhalte kennen:\n",
    " - [Variablen](../20_variables_and_datatypes/10_variables.ipynb)\n",
    " - [Ein- und Ausgabe](../20_variables_and_datatypes/20_in_and_output.ipynb)\n",
    " - [primitive Datentypen](../20_variables_and_datatypes/30_datatypes.ipynb)\n",
    " - [bedingte Anweisungen](../30_conditionals/conditionals.ipynb)\n",
    " - [komplexe Datentypen](../40_complex_data_types/lists.ipynb)\n",
    " - [Schleifen](../50_loops/for_loop.ipynb)\n",
    " - [Funktionen](../60_functions/functions.ipynb)"
   ]
  },
  {
   "cell_type": "markdown",
   "metadata": {},
   "source": [
    "## Motivation\n",
    "\n",
    "Bisher bestehen unsere Python-Programme nur aus einer Datei. Das führt in der Praxis zu einer Reihe von Problemen, z.B.:\n",
    "\n",
    "- Komplexe Programme werden sehr unübersichtlich und schwer wartbar\n",
    "- Keine Wiederverwendung existierender Funktionen \n",
    "\n",
    "Um dieses Problem zu umgehen werden Programme in der Realität in kleiner Einheiten, sogenannte Module, unterteilt. Diese Modularisierung ist ein wichtiges Prinzip bei der Programmierung.\n",
    "\n",
    "## Modularisierung\n",
    "Nicht nur in der Programmierung auch in vielen anderen Bereichen der Technik werden System modular aufgebaut. Was heißt das?\n",
    "- Ein System besteht aus **kleineren, selbständigen Komponenten**, die häufig als Module bezeichnet werden.\n",
    "- Ein Modul kann **unabhängig** vom Gesamtsystem erzeugt und getestet werden.\n",
    "- (Gute) Module können in verschiedenen Systemen **wiederverwendet** werden.\n",
    "\n",
    "Fragen:\n",
    "- Ist ein Mensch modular aufgebaut?\n",
    "- Ist ein Auto modular aufgebaut?\n",
    "\n",
    "## Modularisierung von Software\n",
    "Software ist in aller Regel modular aufgebaut. Sie erkennen das z.B. schon an den Funktionen, die Sie programmiert haben. \n",
    "Diese Funktionen haben eine **klare Aufgabe**, sind **unabhängig** von ihrem späteren Einsatz entwickelt und getestet worden, können universell in anderen Programmen verwendet werden.\n",
    "\n",
    "Software gehört zu den komplexesten von Menschen geschaffenen Systemen (siehe (https://informationisbeautiful.net/visualizations/million-lines-of-code/). Aus diesem Grund spielen Modularisierung und Abstraktion hier eine große Rolle.\n",
    "- Funktionen sind auf der unteren Ebene der Modularisierung\n",
    "- Mehrere zusammengehörende Funktionen können in Bibliotheken (Libraries oder Modulen) zusammengefasst werden.\n",
    "- Mehrere Bibliotheken werden manchmal in Paketen zusammengefasst.\n"
   ]
  },
  {
   "cell_type": "markdown",
   "metadata": {},
   "source": [
    "## Verwendung von Bibliotheken \n",
    "Eine Bibliothek wird in Python mit Hilfe der `import` Anweisung eingebunden.\n"
   ]
  },
  {
   "cell_type": "code",
   "execution_count": null,
   "metadata": {},
   "outputs": [],
   "source": [
    "import math"
   ]
  },
  {
   "cell_type": "markdown",
   "metadata": {},
   "source": [
    "Die Bibliothek `math` stellt, wie der Name schon sagt, weitere mathematische Funktionen und Konstanten zur Verfügung.\n",
    "Beispiele hierfür sind `sin()`, `cos()` und `pi`. Auf diese Funktionen kann jetzt \"qualifiziert\", d.h. unter Angabe des Namens der Bibliothek, zugegriffen werden."
   ]
  },
  {
   "cell_type": "code",
   "execution_count": null,
   "metadata": {},
   "outputs": [],
   "source": [
    "print(math.pi)\n",
    "\n",
    "x = math.cos(math.pi)\n",
    "print(x)\n",
    "\n",
    "print(math.sin(math.pi/2))"
   ]
  },
  {
   "cell_type": "markdown",
   "metadata": {},
   "source": [
    "Es ist auch möglich, nur einzelne Funktionen einer Bibliothek (und nicht die gesamte Bibliothek) zur Verfügung zu stellen."
   ]
  },
  {
   "cell_type": "code",
   "execution_count": null,
   "metadata": {},
   "outputs": [],
   "source": [
    "from math import sin, pi"
   ]
  },
  {
   "cell_type": "markdown",
   "metadata": {},
   "source": [
    "Dann kann auf diese Funktionen auch unqualifiziert zugegriffen werden."
   ]
  },
  {
   "cell_type": "code",
   "execution_count": null,
   "metadata": {},
   "outputs": [],
   "source": [
    "x = sin(3 * pi / 2)\n",
    "print(x)"
   ]
  },
  {
   "cell_type": "markdown",
   "metadata": {},
   "source": [
    "Wenn es Ihnen zu mühsam ist, immer `math.` vor eine Funktion aus der Bibliothek zu schreiben, können Sie den Namensraum beim import auch umbennen. Dann können die Funktionen mit dem kürzeren Prefix aufgerufen werden."
   ]
  },
  {
   "cell_type": "code",
   "execution_count": null,
   "metadata": {},
   "outputs": [],
   "source": [
    "import math as m\n",
    "\n",
    "x = m.cos(m.pi) + m.sin(1)\n",
    "\n",
    "print(x)"
   ]
  },
  {
   "cell_type": "markdown",
   "metadata": {},
   "source": [
    "## Namensräume\n",
    "Innerhalb von Python sind einige Namen schon bekannt bzw. vergeben:\n",
    "- Schlüsselworte: `with`, `for`, oder `and`\n",
    "- Eingebaute Funktionen: `print()`, oder `input()`\n",
    "\n",
    "Durch den Import einer Bibliothek werden weitere Namen bekannt gemacht. \n",
    "Mit Hilfe der Funktion `dir()` kann man sich alle bekannten Namen anzeigen lassen."
   ]
  },
  {
   "cell_type": "code",
   "execution_count": null,
   "metadata": {},
   "outputs": [],
   "source": [
    "dir()"
   ]
  },
  {
   "cell_type": "markdown",
   "metadata": {},
   "source": [
    "Was passiert wenn zwei Funktionen mit den gleichen Namen existieren?"
   ]
  },
  {
   "cell_type": "code",
   "execution_count": null,
   "metadata": {},
   "outputs": [],
   "source": [
    "from math import sin\n",
    "\n",
    "print(sin(0))\n",
    "\n",
    "def sin(n):\n",
    "    \"Ich weiß den Sinus von \" + str(n) + \"nicht...\"\n",
    "\n",
    "print(sin(0)) "
   ]
  },
  {
   "cell_type": "markdown",
   "metadata": {},
   "source": [
    "## Welche Funktionen existieren in einer Bibliothek?\n",
    "Mit Hilfe der Funktion `help()` kann man sich normalerweise anzeigen lassen, welche Funktionen in einer Bibliothek angeboten werden und welche Paramter übergeben werden. Gute Bibliotheken sind entsprechend dokumentiert. Tatsächlich ist der Text, der beim Aufruf von `help()` angezeigt wird, ein String, der eben in der Bibliothek steht. Ändern Sie in der folgenden Zelle den Namen der Bibliothek und lassen Sie sich z.B. die Funktionen der Bibliotheken `os`, `datetime`, ... anzeigen."
   ]
  },
  {
   "cell_type": "code",
   "execution_count": null,
   "metadata": {},
   "outputs": [],
   "source": [
    "import math\n",
    "help(math)"
   ]
  },
  {
   "cell_type": "markdown",
   "metadata": {},
   "source": [
    "## Aufgabe 1\n",
    "Verwenden Sie Funktionen aus dem math Library um:\n",
    "\n",
    "1. die Fakultät einer Zahl zu berechnen (x!)\n",
    "1. den größten gemeinsamen Teiler zweier Zahlen zu berechnen \n",
    "1. den natürlichen Logarithmus und den Logarithmus zur Basis 10 zu berechnen"
   ]
  },
  {
   "cell_type": "code",
   "execution_count": null,
   "metadata": {},
   "outputs": [],
   "source": []
  },
  {
   "cell_type": "markdown",
   "metadata": {},
   "source": [
    "## Aufgabe 2\n",
    "Verwenden Sie Funktionen aus dem statistics und random Library um\n",
    " \n",
    "1. Eine List von zufällige Zahlen zwischen 1 und 10 zu erzeugen\n",
    "1. den Mittelwert dieser Liste zu berechnen \n",
    "1. den Median dieser Liste zu berechnen\n",
    "1. die Varianz dieser Liste zu berechnen"
   ]
  },
  {
   "cell_type": "code",
   "execution_count": null,
   "metadata": {},
   "outputs": [],
   "source": []
  },
  {
   "cell_type": "markdown",
   "metadata": {},
   "source": [
    "## Passende Bibliotheken finden\n",
    "Die Prinzipien zur Verwendung von Bibliotheken sind einfach, die richtige Bibliothek zu finden ist jedoch evtl. schwierig. Hier ein paar Hinweise wo Sie suchen können:\n",
    "\n",
    "1. Die [Python-Standardbibliothek](https://docs.python.org/3/library/) \n",
    "Viele Ergänzungen\n",
    "1. [20 Python libraries you can't live without](https://pythontips.com/2013/07/30/20-python-libraries-you-cant-live-without/) \n",
    "1. [14 Python libraries too good to overlook](https://www.infoworld.com/article/3164409/application-development/hidden-gems-14-python-libraries-too-good-to-overlook.html)\n",
    "1. Google. Am besten mit konkreter Fragestellung, z.B. Python-Bibliothek für GUI"
   ]
  },
  {
   "cell_type": "markdown",
   "metadata": {},
   "source": [
    "## Installation von Bibliotheken\n",
    "Die sogenannten Standardbibliotheken (z.B. `math`, `random`, `os`, ...) sind in der Regel schon installiert. Möglicherweise je nach Distribution (z.B. Anaconda) auch noch weitere. Wenn Sie zusätzliche Bibliotheken installieren wollen, müssen Sie je nach Umgebung von Python (normales Python, Anaconda, ...) unterschiedlich vorgehen.\n",
    "\n",
    "### Installation von Bibliotheken mit `pip`\n",
    "Wenn Sie mit normalem Python arbeiten, steht Ihnen zur Installation von Bibliotheken das Werkzeug `pip` zur Verfügung\n",
    "- Unter Windows die CMD-Shell und Mac das Terminal starten.\n",
    "- Dort mit `pip help` die Hilfe zu pip anzeigen lassen.\n",
    "- Mit `pip install` und der Angabe der zu installierenden Bibliothek können Sie weitere Bibliotheken installieren.\n",
    "\n",
    "### Installation von Bibliotheken mit `conda`\n",
    "Falls Sie mit Anaconda arbeiten steht Ihnen die `conda-shell` zur Verfügung. Rufen Sie im Windows-Startmenü den `anaconda prompt` auf. In der damit gestarteten `conda-shell` können Sie anschließend mit Hilfe des Befehls `conda install` und der Angabe des Paketnamens die entsprechende Bibliothek installieren.\n",
    "\n",
    "Beide Ansätze greifen auf die Seite Seite (pypi.org) zu, dort befinden sich mehr als 100.000 Projekte (= Bibliotheken??)."
   ]
  },
  {
   "cell_type": "markdown",
   "metadata": {},
   "source": [
    "## Schöne Graphiken mit the Turtle Bibliothek\n",
    "Der folgende Code funktionert leider nicht in allen Jupyter-Notebooks (einfach ausprobieren). Zum Ausführen gehen können Sie alternativ wie folgt vorgehen:\n",
    "- Öffnen Sie eine *normale* Entwicklungsumgebung wie IDLE, Spyder oder PyCharm\n",
    "- Erstellen Sie eine Datei `turtle_example.py`\n",
    "- Kopieren Sie untenstehenden Programmcode in diese Datei und speichern Sie.\n",
    "- Führen Sie die Datei im Terminal mit dem Befehl `python3 <pfad-zu-ihrer-datei>` aus. "
   ]
  },
  {
   "cell_type": "code",
   "execution_count": null,
   "metadata": {},
   "outputs": [],
   "source": [
    "from turtle import *\n",
    "color('red', 'yellow')\n",
    "begin_fill()\n",
    "while True:\n",
    "    forward(200)\n",
    "    left(170)\n",
    "    if abs(pos()) < 1:\n",
    "        break\n",
    "end_fill()\n",
    "done()"
   ]
  },
  {
   "cell_type": "code",
   "execution_count": null,
   "metadata": {},
   "outputs": [],
   "source": []
  }
 ],
 "metadata": {
  "file_extension": ".py",
  "kernelspec": {
   "display_name": "Python 3",
   "language": "python",
   "name": "python3"
  },
  "language_info": {
   "codemirror_mode": {
    "name": "ipython",
    "version": 3
   },
   "file_extension": ".py",
   "mimetype": "text/x-python",
   "name": "python",
   "nbconvert_exporter": "python",
   "pygments_lexer": "ipython3",
   "version": "3.7.7"
  },
  "mimetype": "text/x-python",
  "name": "python",
  "npconvert_exporter": "python",
  "pygments_lexer": "ipython3",
  "version": 3
 },
 "nbformat": 4,
 "nbformat_minor": 2
}
