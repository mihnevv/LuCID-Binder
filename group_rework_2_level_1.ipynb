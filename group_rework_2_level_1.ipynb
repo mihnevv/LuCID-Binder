{
 "metadata": {
  "language_info": {
   "codemirror_mode": {
    "name": "ipython",
    "version": 3
   },
   "file_extension": ".py",
   "mimetype": "text/x-python",
   "name": "python",
   "nbconvert_exporter": "python",
   "pygments_lexer": "ipython3",
   "version": "3.8.5-final"
  },
  "orig_nbformat": 2,
  "kernelspec": {
   "name": "python_defaultSpec_1599397885408",
   "display_name": "Python 3.8.5 32-bit"
  }
 },
 "nbformat": 4,
 "nbformat_minor": 2,
 "cells": [
  {
   "cell_type": "markdown",
   "metadata": {},
   "source": [
    "# Aufgabe 1\n",
    "\n",
    "In dieser Aufgabe befassen wir uns mit der Berechnung von Abschreibungsplänen. Diese können mittels PC-Programmen schnell und in großen Mengen berechnet werden. Da dieses auch Ihr neuer Chef in der Muster AG mitbekommen hat, erwartet er von Ihnen ein solches Programm zu entwickeln. Als Vorgabe haben Sie folgendes:\n",
    "\n",
    "1. Schreiben Sie ein Programm, welches eine lineare Abschreibung vornimmt.\n",
    "3. Sie gehen von einer Laufzeit für die Maschine vom x Jahren aus(kann variabel sein), welche in der Variable Alter vorgegeben wird. Der Wert einer Maschine ist in der Variable Wert_Maschine vorgegeben.\n",
    "4. Die Abschreibungswerte sollen in dem Array Abschreibungsplan angegeben werden.\n",
    "5. Geben Sie den Abschreibungsplan in folgendem Format an: `[0] = Startwert` ,`[1] = Startwert - Abschreibung ` usw. an.\n",
    "6. Nutzen Sie die array.append(wert) Funktion um den Abschreibungsplan zu erstellen. Diese fügt automatisch am Ende des arrays einen neuen Eintrag ein mit eingegeben wert.\n",
    "7. Nutzen Sie die Funktion range(Anfangsjahr,Endjahr) für die Schleife um über die Anzahl der Jahre zu iterrieren.\n",
    "\n",
    "### Hilfe\n",
    "\n",
    "1. Das Endjahr wird immer als Alter + 1 angegeben, also wenn es 10 ist müssen Sie 11 angegeben.\n",
    "2. Verwenden Sie als Startjahr das Jahr 0."
   ]
  },
  {
   "cell_type": "code",
   "execution_count": null,
   "metadata": {
    "tags": []
   },
   "outputs": [],
   "source": [
    "M_1 = 250000\n",
    "A = 5\n",
    "def get_linear(Wert_Maschine,Alter):\n",
    "    Abschreibungsplan = []\n",
    "    ###BEGIN SOLUTION\n",
    "    Abschreibung = Wert_Maschine/Alter\n",
    "    for x in range(0,Alter + 1):\n",
    "        Abschreibungsplan.append(Wert_Maschine)\n",
    "        Wert_Maschine = Wert_Maschine -  Abschreibung      \n",
    "    ###END SOLUTION\n",
    "    return Abschreibungsplan\n",
    "get_linear(M_1,A)"
   ]
  },
  {
   "cell_type": "markdown",
   "metadata": {},
   "source": [
    "# Automatische Tests"
   ]
  },
  {
   "cell_type": "code",
   "execution_count": null,
   "metadata": {
    "tags": []
   },
   "outputs": [],
   "source": [
    "import unittest\n",
    "import os\n",
    "class TestNotebookClass(unittest.TestCase):\n",
    "    def test1(self):\n",
    "        W = 25000\n",
    "        A = 10\n",
    "        \"\"\"Test1\"\"\"\n",
    "        expected_out = [25000, 22500.0, 20000.0, 17500.0, 15000.0, 12500.0, 10000.0, 7500.0, 5000.0, 2500.0, 0.0]\n",
    "        self.assertEqual(get_linear(W,A), expected_out)\n",
    "    def test2(self):\n",
    "        W = 600000\n",
    "        A = 15\n",
    "        \"\"\"Test2\"\"\"\n",
    "        expected_out = [600000, 560000.0, 520000.0, 480000.0, 440000.0, 400000.0, 360000.0, 320000.0, 280000.0, 240000.0, 200000.0, 160000.0, 120000.0, 80000.0, 40000.0, 0.0]\n",
    "        self.assertEqual(get_linear(W,A), expected_out)\n",
    "    def test3(self):\n",
    "        W = 400000\n",
    "        A = 40\n",
    "        \"\"\"Test3\"\"\"\n",
    "        expected_out = [400000, 390000.0, 380000.0, 370000.0, 360000.0, 350000.0, 340000.0, 330000.0, 320000.0, 310000.0, 300000.0,  290000.0, 280000.0, 270000.0, 260000.0, 250000.0, 240000.0, 230000.0, 220000.0, 210000.0, 200000.0, 190000.0, 180000.0, 170000.0, 160000.0, 150000.0, 140000.0, 130000.0, 120000.0, 110000.0, 100000.0, 90000.0, 80000.0, 70000.0, 60000.0, 50000.0, 40000.0, 30000.0,  20000.0, 10000.0, 0.0]\n",
    "        self.assertEqual(get_linear(W,A), expected_out)\n",
    "    def test4(self):\n",
    "        W = 250000\n",
    "        A = 5\n",
    "        \"\"\"Test4\"\"\"\n",
    "        expected_out = [250000, 200000.0, 150000.0, 100000.0, 50000.0, 0.0]\n",
    "        self.assertEqual(get_linear(W,A), expected_out)\n",
    " \n",
    "import sys\n",
    "suite = unittest.TestLoader().loadTestsFromTestCase(TestNotebookClass)\n",
    "unittest.TextTestRunner(verbosity=4,stream=sys.stderr).run(suite)"
   ]
  }
 ]
}