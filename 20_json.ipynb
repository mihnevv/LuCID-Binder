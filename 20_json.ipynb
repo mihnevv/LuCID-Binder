{
 "cells": [
  {
   "cell_type": "markdown",
   "metadata": {},
   "source": [
    "# JSON\n",
    "Der Begriff JSON ist die Abkürtzung für JavaScript Object Notation. JSON ist\n",
    "> ein kompaktes **Datenformat** in einer einfach lesbaren **Textform** und dient dem Zweck des Datenaustausches zwischen Anwendungen (Wikipedia)\n",
    "\n",
    "Folgendes Beispiel zeigt Daten im JSON-Format.\n",
    "\n",
    "```JSON\n",
    "{\n",
    "  \"Herausgeber\": \"Xema\",\n",
    "  \"Nummer\": \"1234-5678-9012-3456\",\n",
    "  \"Deckung\": 2e+6,\n",
    "  \"Waehrung\": \"EURO\",\n",
    "  \"Inhaber\":\n",
    "  {\n",
    "    \"Name\": \"Mustermann\",\n",
    "    \"Vorname\": \"Max\",\n",
    "    \"maennlich\": true,\n",
    "    \"Hobbys\": [\"Reiten\", \"Golfen\", \"Lesen\"],\n",
    "    \"Alter\": 42,\n",
    "    \"Kinder\": [],\n",
    "    \"Partner\": null\n",
    "  }\n",
    "}\n",
    "````\n",
    "\n",
    "In diesem Beispiel sind schon eine Vielzahl von Element zu erkennen, aus denen JSON aufgebaut ist:\n",
    "\n",
    "- Objekte: \n",
    "    - beginnt mit `{` und endet mit `}`. \n",
    "    - Enthält eine durch Kommata geteilte, ungeordnete Liste von Eigenschaften\n",
    "    - Eigenschaften besteht aus einem Schlüssel und einem Wert, getrennt durch einen Doppelpunkt (Schlüssel:Wert)\n",
    "\n",
    "- Boolescher Wert:\n",
    "    - durch die Schlüsselwörter `true` und `false` dargestellt\n",
    "\n",
    "- Zahl:\n",
    "    - Folge der Ziffern `0–9`\n",
    "    - kann durch ein negatives Vorzeichen `-` eingeleitet werden\n",
    "    - kann durch einen Dezimalpunkt `.` unterbrochen\n",
    "    - kann durch die Angabe eines Exponenten `e` oder `E` ergänzt \n",
    "\n",
    "- Zeichenkette:\n",
    "    - beginnt und endet mit doppelten geraden Anführungszeichen (`\"`)\n",
    "    \n",
    "- Array\n",
    "    - beginnt mit `[` und endet mit `]`\n",
    "    - enthält eine durch Kommata geteilte, geordnete Liste von Werten gleichen oder verschiedenen Typs"
   ]
  },
  {
   "cell_type": "markdown",
   "metadata": {},
   "source": [
    "## Python und JSON\n",
    "Funktionen zum Erzeugen und Einlesen von JSON sind Teil der [Python Standard-Bibliothek](https://docs.python.org/3.7/library/json.html). Folgende Zelle zeigt ein einfaches Beispiel zur Erzeugung von JSON Daten in Python. "
   ]
  },
  {
   "cell_type": "code",
   "execution_count": null,
   "metadata": {},
   "outputs": [],
   "source": [
    "import json\n",
    "import pprint\n",
    "\n",
    "profs = []\n",
    "\n",
    "prof1 = { \"name\": \"Drumm\", \"given-name\": \"Christian\", \"courses\": [\"Digital Lab\", \"SAP in der Praxis\"]}\n",
    "prof2 = { \"name\": \"Jacobs\", \"given-name\": \"Stephan\", \"courses\": [\"Informationssysteme 1\"]}\n",
    "prof3 = { \"name\": \"Focke\", \"given-name\": \"Makus\", \"courses\": [\"Ludus\", \"BPL\"]}\n",
    "\n",
    "profs.append(prof1)\n",
    "profs.append(prof2)\n",
    "profs.append(prof3)\n",
    "\n",
    "print(\"Python:\")\n",
    "pprint.pprint(profs)\n",
    "\n",
    "print('\\n\\nJSON:')\n",
    "pprint.pprint(json.dumps(profs))"
   ]
  },
  {
   "cell_type": "markdown",
   "metadata": {},
   "source": [
    "### Übung 1\n",
    "Unter der URL https://git.fh-aachen.de/snippets/25 ist eine JSON-Datei verfügbar. Schreiben Sie ein Programm, dass die Datei einliest und folgende Daten ausgibt:\n",
    "- Die ersten 10 Tweets\n",
    "- Alle in der Datei enthaltenen User\n",
    "- ...\n",
    "\n"
   ]
  },
  {
   "cell_type": "code",
   "execution_count": null,
   "metadata": {},
   "outputs": [],
   "source": [
    "import json\n",
    "\n",
    "f = open(\"twitter.json\")\n",
    "datei_inhalt = f.read()\n",
    "\n",
    "tweets = json.loads(datei_inhalt)\n",
    "\n",
    "for tweet in tweets[\"statuses\"]:\n",
    "    print(tweet[\"user\"][\"name\"])"
   ]
  },
  {
   "cell_type": "code",
   "execution_count": null,
   "metadata": {},
   "outputs": [],
   "source": []
  }
 ],
 "metadata": {
  "file_extension": ".py",
  "kernelspec": {
   "display_name": "Python 3",
   "language": "python",
   "name": "python3"
  },
  "language_info": {
   "codemirror_mode": {
    "name": "ipython",
    "version": 3
   },
   "file_extension": ".py",
   "mimetype": "text/x-python",
   "name": "python",
   "nbconvert_exporter": "python",
   "pygments_lexer": "ipython3",
   "version": "3.7.3"
  },
  "mimetype": "text/x-python",
  "name": "python",
  "npconvert_exporter": "python",
  "pygments_lexer": "ipython3",
  "version": 3
 },
 "nbformat": 4,
 "nbformat_minor": 2
}
