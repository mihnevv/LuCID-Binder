{
 "cells": [
  {
   "cell_type": "markdown",
   "execution_count": null,
   "metadata": {},
   "outputs": [],
   "source": [
    "# Verwendung von Web-APIs in Python\n",
    "\n",
    "Der erste Schritt zur Verwendung eine Web-API ist der Zugriff auf eine URL über das HTTP-Protokoll.\n",
    "Zur verwendung des HTTP-Protokolls steht in Python die [requests](https://pypi.org/project/requests/) Bibliothek zur Verfügung.\n",
    "\n",
    "## HTTP mit Python\n",
    "\n",
    "In folgender Zelle ist ein einfaches Python-Programm zu sehen. Dieses verwendet die `requests`-Bibliothek um die unter der URL `http://www.fh-aachen.de` verfügbare\n",
    "Ressource abzurufen. In diesem Beispiel ist die Ressource eine HTML-Dokument.\n"
   ]
  },
  {
   "cell_type": "code",
   "execution_count": null,
   "metadata": {},
   "outputs": [],
   "source": [
    "import requests\n",
    "\n",
    "r = requests.get(\"http://www.fh-aachen.de\")\n",
    "inhalt = r.content.decode()\n",
    "\n",
    "print(inhalt)"
   ]
  },
  {
   "cell_type": "markdown",
   "execution_count": null,
   "metadata": {},
   "outputs": [],
   "source": [
    "Im Gegensatz dazu ist unter der URL 'https://api.github.com/events' ein JSON-Dokument verfügbar.\n"
   ]
  },
  {
   "cell_type": "code",
   "execution_count": null,
   "metadata": {},
   "outputs": [],
   "source": [
    "import json\n",
    "\n",
    "r = requests.get('https://api.github.com/events')\n",
    "\n",
    "r.json()[0]"
   ]
  },
  {
   "cell_type": "markdown",
   "execution_count": null,
   "metadata": {},
   "outputs": [],
   "source": [
    "Die [Dokumentation](https://2.python-requests.org/en/master/) der `requests`-Bibliothek enthält viele weitere Beispiele für die Verwendung der Bibliothek."
   ]
  },
  {
   "cell_type": "markdown",
   "execution_count": null,
   "metadata": {},
   "outputs": [],
   "source": [
    "## Zugriff auf die Twitter Search API\n",
    "\n",
    "Als erste Web-API soll die Twitter Search API in einem Python-Programm verwendet werden. Die Dokumentation der Twitter Search API ist [hier](https://developer.twitter.com/en/docs/tweets/search/overview/standard) verfügbar.\n",
    "\n",
    "Die Twitter Search API ist unter der URL `https://api.twitter.com/1.1/search/tweets.json` verfügbar. Der Suchbegriff wird über den URL-Parameter `q` mitgegeben. Folgende Zelle zeigt den ersten Versuch eines Zugriffs auf die Twitter Search API."
   ]
  },
  {
   "cell_type": "code",
   "execution_count": null,
   "metadata": {},
   "outputs": [],
   "source": [
    "r = requests.get('https://api.twitter.com/1.1/search/tweets.json?q=fhaachen')\n",
    "r.content.decode()"
   ]
  },
  {
   "cell_type": "markdown",
   "execution_count": null,
   "metadata": {},
   "outputs": [],
   "source": [
    "Zum Zugriff auf die Twitter APIP ist eine Authentifizierung notwendig. Für die Twitter API erflogt diese über das Protokoll [OAuth v1](https://de.wikipedia.org/wiki/OAuth#OAuth_1.0). Diese Protokoll basiert auf einer Reihe von Tokens. Über diese Tokens kann sich ein Programm für den Zugriff authentifizieren. Für die Authentifizierung werden sogenannte Tokens verwendet, die für jede Anwendung individuell erstellt werden können. \n",
    "\n",
    "Für diese Vorlesung habe ich das Twitter-Konto [@wifhaachen](https://twitter.com/wifhaachen) erstellt. Außerdem habe ich die notwendigen Tokens schon generiert:\n",
    "\n",
    "- API key: 9OdY1QujoKPS6FreBpeh9OOJp \n",
    "- API secret: Zj8gX7lrbm5dWZLuonDeGfSpPTiyC3cDaaZ4AcPUV6XfuY140W\n",
    "- Access token: 1215246349417009154-R9M9kJGKEao0gy6A97SlctU4tWQ6zD \n",
    "- Access token secret: L4B65dBZ9JHOR6q1GUVRJI0elUJWXGUYmHnRS4CVp27nR \n",
    "\n",
    "Mit diesen Tokens kann die Twitter Search API jetzt verwendet werden."
   ]
  },
  {
   "cell_type": "code",
   "execution_count": null,
   "metadata": {},
   "outputs": [],
   "source": [
    "import requests\n",
    "from requests_oauthlib import OAuth1\n",
    "\n",
    "API_KEY = '9OdY1QujoKPS6FreBpeh9OOJp'\n",
    "API_SECRET = 'Zj8gX7lrbm5dWZLuonDeGfSpPTiyC3cDaaZ4AcPUV6XfuY140W'\n",
    "ACCESS_TOKEN = '1215246349417009154-R9M9kJGKEao0gy6A97SlctU4tWQ6zD'\n",
    "ACCESS_TOKEN_SECRET = 'L4B65dBZ9JHOR6q1GUVRJI0elUJWXGUYmHnRS4CVp27nR'\n",
    "\n",
    "auth = OAuth1(API_KEY, API_SECRET, ACCESS_TOKEN, ACCESS_TOKEN_SECRET)\n",
    "\n",
    "r = requests.get('https://api.twitter.com/1.1/search/tweets.json?q=fhaachen', auth=auth)\n",
    "r.json()[\"statuses\"][0]"
   ]
  },
  {
   "cell_type": "markdown",
   "execution_count": null,
   "metadata": {},
   "outputs": [],
   "source": [
    "## Übung\n",
    "Schreiben Sie ein Programm, dass nach Eingabe eines Suchbegriffs die Twitter Search API verwendet, um Tweets zu diesem Begriff zu finden. Geben Sie für alle gefundenen Tweets den Text des Tweets aus. "
   ]
  },
  {
   "cell_type": "code",
   "execution_count": null,
   "metadata": {},
   "outputs": [],
   "source": [
    "import requests\n",
    "from requests_oauthlib import OAuth1\n",
    "\n",
    "API_KEY = '9OdY1QujoKPS6FreBpeh9OOJp'\n",
    "API_SECRET = 'Zj8gX7lrbm5dWZLuonDeGfSpPTiyC3cDaaZ4AcPUV6XfuY140W'\n",
    "ACCESS_TOKEN = '1215246349417009154-R9M9kJGKEao0gy6A97SlctU4tWQ6zD'\n",
    "ACCESS_TOKEN_SECRET = 'L4B65dBZ9JHOR6q1GUVRJI0elUJWXGUYmHnRS4CVp27nR'\n",
    "\n",
    "auth = OAuth1(API_KEY, API_SECRET, ACCESS_TOKEN, ACCESS_TOKEN_SECRET)\n",
    "\n",
    "search_term = input(\"Bitte einen Suchbegriff eingeben: \")\n",
    "such_url = 'https://api.twitter.com/1.1/search/tweets.json?q=' + search_term\n",
    "\n",
    "r = requests.get(such_url, auth=auth)\n",
    "tweets = r.json()['statuses']\n",
    "\n",
    "for t in tweets:\n",
    "    print(t['text'])"
   ]
  },
  {
   "cell_type": "markdown",
   "execution_count": null,
   "metadata": {},
   "outputs": [],
   "source": [
    "## OCR mit einem Web-Service "
   ]
  },
  {
   "cell_type": "code",
   "execution_count": null,
   "metadata": {},
   "outputs": [],
   "source": [
    "payload = {'isOverlayRequired': False,\n",
    "            'apikey': '1d4fd8a67088957',\n",
    "            'language': 'ger' }\n",
    "\n",
    "with open('/Users/christian/Downloads/IMG_6082.jpg', 'rb') as f:\n",
    "    r = requests.post('https://api.ocr.space/parse/image',\n",
    "                       files={\"demo1\": f},\n",
    "                       data=payload)\n",
    "    print(r.json()[\"ParsedResults\"][0]['ParsedText'])"
   ]
  },
  {
   "cell_type": "code",
   "execution_count": null,
   "metadata": {},
   "outputs": [],
   "source": []
  }
 ],
 "metadata": {
  "file_extension": ".py",
  "kernelspec": {
   "display_name": "Python 3",
   "language": "python",
   "name": "python3"
  },
  "language_info": {
   "codemirror_mode": {
    "name": "ipython",
    "version": 3
   },
   "file_extension": ".py",
   "mimetype": "text/x-python",
   "name": "python",
   "nbconvert_exporter": "python",
   "pygments_lexer": "ipython3",
   "version": "3.7.3"
  },
  "mimetype": "text/x-python",
  "name": "python",
  "npconvert_exporter": "python",
  "pygments_lexer": "ipython3",
  "version": 3
 },
 "nbformat": 4,
 "nbformat_minor": 2
}